{
 "cells": [
  {
   "cell_type": "code",
   "execution_count": 2,
   "metadata": {
    "colab": {
     "base_uri": "https://localhost:8080/"
    },
    "id": "FNp2SHoskY5f",
    "outputId": "f2f388b5-efc6-4e14-b02b-0e00d737a2b0"
   },
   "outputs": [
    {
     "name": "stdout",
     "output_type": "stream",
     "text": [
      "/datalab\n"
     ]
    }
   ],
   "source": [
    "%cd /datalab\n"
   ]
  },
  {
   "cell_type": "code",
   "execution_count": 10,
   "metadata": {
    "colab": {
     "base_uri": "https://localhost:8080/"
    },
    "id": "EnTTPGzokzla",
    "outputId": "283cdd01-462a-4698-d8c5-faf43446b0de"
   },
   "outputs": [
    {
     "name": "stdout",
     "output_type": "stream",
     "text": [
      "/home\n",
      "/home\n"
     ]
    }
   ],
   "source": [
    "%cd /home\n",
    "import os\n",
    "print(os.getcwd())"
   ]
  },
  {
   "cell_type": "code",
   "execution_count": 4,
   "metadata": {
    "colab": {
     "base_uri": "https://localhost:8080/"
    },
    "id": "WMKTs1Faq-nF",
    "outputId": "ba341c8a-4fda-4eab-aeb1-646a5b6fd10f"
   },
   "outputs": [
    {
     "name": "stdout",
     "output_type": "stream",
     "text": [
      "Cloning into 'cnn-intel_images'...\n",
      "remote: Enumerating objects: 24329, done.\u001b[K\n",
      "remote: Counting objects: 100% (6/6), done.\u001b[K\n",
      "remote: Compressing objects: 100% (4/4), done.\u001b[K\n",
      "remote: Total 24329 (delta 2), reused 5 (delta 2), pack-reused 24323\u001b[K\n",
      "Receiving objects: 100% (24329/24329), 351.65 MiB | 29.25 MiB/s, done.\n",
      "Resolving deltas: 100% (6/6), done.\n",
      "Updating files: 100% (24341/24341), done.\n"
     ]
    }
   ],
   "source": [
    "%mkdir /home/seg_train\n",
    "%mkdir /home/seg_train/buildings\n",
    "!git clone https://github.com/fafilia/cnn-intel_images.git\n",
    "!cp -r cnn-intel_images/seg_train/buildings/* /home/seg_train/buildings/"
   ]
  },
  {
   "cell_type": "code",
   "execution_count": 24,
   "metadata": {
    "colab": {
     "base_uri": "https://localhost:8080/"
    },
    "id": "l2BbOT_yqEDh",
    "outputId": "23218311-38e3-4b3f-94f7-f8b6f7d9ab26"
   },
   "outputs": [
    {
     "name": "stdout",
     "output_type": "stream",
     "text": [
      "Epoch [1/50], Step [100/176], Loss: 1.0090155601501465\n",
      "Epoch [1/50] - Validation Accuracy: 64.03%\n",
      "Epoch [2/50], Step [100/176], Loss: 0.8344545960426331\n",
      "Epoch [2/50] - Validation Accuracy: 72.63%\n",
      "Epoch [3/50], Step [100/176], Loss: 0.6796619296073914\n",
      "Epoch [3/50] - Validation Accuracy: 75.73%\n",
      "Epoch [4/50], Step [100/176], Loss: 0.6352912783622742\n",
      "Epoch [4/50] - Validation Accuracy: 75.17%\n",
      "Epoch [5/50], Step [100/176], Loss: 0.5018866062164307\n",
      "Epoch [5/50] - Validation Accuracy: 77.73%\n",
      "Epoch [6/50], Step [100/176], Loss: 0.8112205266952515\n",
      "Epoch [6/50] - Validation Accuracy: 77.77%\n",
      "Epoch [7/50], Step [100/176], Loss: 0.43437454104423523\n",
      "Epoch [7/50] - Validation Accuracy: 80.00%\n",
      "Epoch [8/50], Step [100/176], Loss: 0.2927994728088379\n",
      "Epoch [8/50] - Validation Accuracy: 78.37%\n",
      "Epoch [9/50], Step [100/176], Loss: 0.24186600744724274\n",
      "Epoch [9/50] - Validation Accuracy: 79.07%\n",
      "Epoch [10/50], Step [100/176], Loss: 0.23008647561073303\n",
      "Epoch [10/50] - Validation Accuracy: 77.50%\n",
      "Epoch [11/50], Step [100/176], Loss: 0.4238665997982025\n",
      "Epoch [11/50] - Validation Accuracy: 77.90%\n",
      "Epoch [12/50], Step [100/176], Loss: 0.12223222106695175\n",
      "Epoch [12/50] - Validation Accuracy: 78.93%\n",
      "Early stopping. No improvement in validation accuracy.\n",
      "Test Accuracy: 80.00%\n"
     ]
    }
   ],
   "source": [
    "import torch\n",
    "import torch.nn as nn\n",
    "import torchvision\n",
    "import torchvision.transforms as transforms\n",
    "from torchvision.datasets import ImageFolder\n",
    "from torch.utils.data import DataLoader\n",
    "import torch.optim as optim\n",
    "from torch.optim.lr_scheduler import ReduceLROnPlateau\n",
    "\n",
    "\n",
    "train_dir = '/home/cnn-intel_images/seg_train'\n",
    "test_dir = '/home/cnn-intel_images/seg_test'\n",
    "\n",
    "\n",
    "num_epochs = 50\n",
    "learning_rate = 0.001\n",
    "batch_size = 64\n",
    "\n",
    "train_transforms = transforms.Compose([\n",
    "    transforms.Resize((64, 64)),\n",
    "    transforms.ToTensor(),\n",
    "    transforms.Normalize(mean=[0.5, 0.5, 0.5], std=[0.5, 0.5, 0.5])\n",
    "])\n",
    "test_transforms = transforms.Compose([\n",
    "    transforms.Resize((64, 64)),\n",
    "    transforms.ToTensor(),\n",
    "    transforms.Normalize(mean=[0.5, 0.5, 0.5], std=[0.5, 0.5, 0.5])\n",
    "])\n",
    "\n",
    "from torch.utils.data import random_split\n",
    "train_dataset = ImageFolder(train_dir, transform=train_transforms)\n",
    "train_size = int(0.8 * len(train_dataset))\n",
    "val_size = len(train_dataset) - train_size\n",
    "train_dataset, val_dataset = random_split(train_dataset, [train_size, val_size])\n",
    "\n",
    "\n",
    "test_dataset = ImageFolder(test_dir, transform=test_transforms)\n",
    "train_loader = DataLoader(dataset=train_dataset, batch_size=batch_size, shuffle=True)\n",
    "val_loader = DataLoader(dataset=val_dataset, batch_size=batch_size, shuffle=False)\n",
    "test_loader = DataLoader(dataset=test_dataset, batch_size=1, shuffle=False)\n",
    "\n",
    "class ConvNet(nn.Module):\n",
    "    def __init__(self):\n",
    "        super(ConvNet, self).__init__()\n",
    "        self.layer1 = nn.Sequential(\n",
    "            nn.Conv2d(3, 16, kernel_size=5, stride=1, padding=2),\n",
    "            nn.ReLU(),\n",
    "            nn.MaxPool2d(kernel_size=2, stride=2))\n",
    "        self.layer2 = nn.Sequential(\n",
    "            nn.Conv2d(16, 32, kernel_size=5, stride=1, padding=2),\n",
    "            nn.ReLU(),\n",
    "            nn.MaxPool2d(kernel_size=2, stride=2))\n",
    "        self.layer3 = nn.Sequential(\n",
    "            nn.Conv2d(32, 64, kernel_size=5, stride=1, padding=2),\n",
    "            nn.ReLU(),\n",
    "            nn.MaxPool2d(kernel_size=2, stride=2))\n",
    "        self.layer4 = nn.Sequential(\n",
    "            nn.Conv2d(64, 128, kernel_size=3, stride=1, padding=1),\n",
    "            nn.ReLU(),\n",
    "            nn.MaxPool2d(kernel_size=2, stride=2))\n",
    "        self.fc1 = nn.Linear(4 * 4 * 128, 1000)\n",
    "        self.fc2 = nn.Linear(1000, 512)\n",
    "        self.fc3 = nn.Linear(512, 64)\n",
    "        self.fc4 = nn.Linear(64, 6)\n",
    "        self.drop_out = nn.Dropout(p=0.5)\n",
    "\n",
    "    def forward(self, x):\n",
    "        out = self.layer1(x)\n",
    "        out = self.layer2(out)\n",
    "        out = self.layer3(out)\n",
    "        out = self.layer4(out)\n",
    "        out = out.view(out.size(0), -1)\n",
    "        out = self.fc1(out)\n",
    "        out = self.fc2(out)\n",
    "        out = self.fc3(out)\n",
    "        out = self.fc4(out)\n",
    "        return out\n",
    "\n",
    "model = ConvNet()\n",
    "criterion = nn.CrossEntropyLoss()\n",
    "optimizer = optim.Adam(model.parameters(), lr=learning_rate, weight_decay=1e-4)\n",
    "scheduler = ReduceLROnPlateau(optimizer, mode='max', factor=0.5, patience=5, verbose=True)\n",
    "\n",
    "total_step = len(train_loader)\n",
    "best_val_accuracy = 0.0\n",
    "patience = 5\n",
    "counter = 0\n",
    "for epoch in range(num_epochs):\n",
    "    model.train()\n",
    "    for i, (images, labels) in enumerate(train_loader):\n",
    "        outputs = model(images)\n",
    "        loss = criterion(outputs, labels)\n",
    "        optimizer.zero_grad()\n",
    "        loss.backward()\n",
    "        optimizer.step()\n",
    "\n",
    "        if (i + 1) % 100 == 0:\n",
    "            print(f'Epoch [{epoch + 1}/{num_epochs}], Step [{i + 1}/{total_step}], Loss: {loss.item()}')\n",
    "\n",
    "    model.eval()\n",
    "    correct = 0\n",
    "    total = 0\n",
    "    with torch.no_grad():\n",
    "        for images, labels in test_loader:\n",
    "            outputs = model(images)\n",
    "            _, predicted = torch.max(outputs, 1)\n",
    "            total += labels.size(0)\n",
    "            correct += (predicted == labels).sum().item()\n",
    "        val_accuracy = 100 * correct / total\n",
    "        print(f'Epoch [{epoch + 1}/{num_epochs}] - Validation Accuracy: {val_accuracy:.2f}%')\n",
    "\n",
    "        scheduler.step(val_accuracy)\n",
    "\n",
    "        if val_accuracy>best_val_accuracy:\n",
    "          best_val_accuracy=val_accuracy\n",
    "          torch.save(model.state_dict(), 'best_convnet_model.pth')\n",
    "          counter=0\n",
    "        else:\n",
    "          counter+=1\n",
    "        if counter>=patience:\n",
    "          print(\"Early stopping. No improvement in validation accuracy.\")\n",
    "          break\n",
    "\n",
    "model.load_state_dict(torch.load('best_convnet_model.pth'))\n",
    "model.eval()\n",
    "\n",
    "test_correct=0\n",
    "test_total=0\n",
    "with torch.no_grad():\n",
    "  for images,labels in test_loader:\n",
    "    outputs=model(images)\n",
    "    _, predicted = torch.max(outputs, 1)\n",
    "    test_total+=labels.size(0)\n",
    "    test_correct+=(predicted==labels).sum().item()\n",
    "  test_accuracy = 100 * test_correct / test_total\n",
    "  print(f'Test Accuracy: {test_accuracy:.2f}%')"
   ]
  },
  {
   "cell_type": "code",
   "execution_count": 25,
   "metadata": {
    "colab": {
     "base_uri": "https://localhost:8080/"
    },
    "id": "5Bb_RtQ660ld",
    "outputId": "b21dc0f5-bf46-4434-f285-76a6f43df7be"
   },
   "outputs": [
    {
     "name": "stderr",
     "output_type": "stream",
     "text": [
      "/usr/local/lib/python3.10/dist-packages/torch/utils/data/dataloader.py:557: UserWarning: This DataLoader will create 4 worker processes in total. Our suggested max number of worker in current system is 2, which is smaller than what this DataLoader is going to create. Please be aware that excessive worker creation might get DataLoader running slow or even freeze, lower the worker number to avoid potential slowness/freeze if necessary.\n",
      "  warnings.warn(_create_warning_msg(\n"
     ]
    },
    {
     "name": "stdout",
     "output_type": "stream",
     "text": [
      "Predictions for unlabeled images: [1, 2, 5, 2, 1, 0, 0, 0, 4, 3, 2, 1, 2, 2, 4, 4, 2, 4, 3, 4, 2, 3, 1, 1, 0, 3, 3, 3, 3, 3, 1, 0, 1, 0, 2, 4, 1, 0, 3, 3, 2, 1, 1, 0, 4, 4, 5, 4, 3, 4, 0, 3, 0, 3, 4, 3, 2, 2, 5, 2, 3, 4, 0, 1, 2, 3, 0, 4, 0, 4, 1, 0, 2, 3, 0, 4, 0, 1, 3, 5, 3, 2, 3, 0, 4, 3, 1, 5, 0, 0, 2, 4, 4, 2, 4, 1, 5, 1, 4, 0, 3, 5, 5, 0, 2, 1, 5, 0, 4, 0, 3, 1, 1, 4, 2, 1, 1, 0, 2, 5, 0, 4, 0, 4, 4, 2, 2, 2, 5, 0, 2, 5, 1, 3, 4, 4, 1, 1, 3, 1, 5, 2, 5, 1, 1, 0, 5, 3, 5, 5, 1, 1, 2, 1, 5, 1, 2, 2, 0, 3, 1, 3, 3, 3, 2, 5, 2, 0, 0, 0, 4, 3, 5, 1, 3, 4, 0, 0, 0, 2, 2, 1, 2, 1, 3, 5, 4, 0, 3, 5, 1, 2, 2, 0, 1, 3, 2, 3, 5, 0, 3, 5, 3, 0, 3, 3, 3, 2, 3, 4, 3, 1, 5, 1, 4, 0, 1, 0, 3, 5, 4, 5, 3, 0, 4, 5, 1, 3, 2, 4, 4, 1, 0, 3, 2, 2, 3, 2, 0, 5, 0, 2, 4, 3, 3, 3, 1, 4, 1, 5, 2, 5, 0, 4, 4, 0, 3, 2, 1, 3, 5, 3, 1, 4, 3, 1, 4, 3, 0, 2, 2, 3, 1, 1, 5, 1, 2, 4, 1, 1, 5, 5, 2, 5, 4, 1, 4, 1, 4, 4, 3, 4, 2, 2, 4, 4, 0, 0, 5, 0, 3, 2, 1, 2, 3, 4, 2, 4, 3, 0, 0, 5, 1, 3, 3, 3, 2, 0, 4, 2, 5, 0, 0, 2, 2, 4, 1, 1, 0, 2, 4, 3, 3, 3, 4, 1, 0, 1, 0, 0, 4, 1, 4, 1, 2, 2, 1, 2, 4, 0, 0, 2, 4, 1, 1, 0, 0, 4, 3, 3, 3, 4, 2, 5, 4, 1, 1, 4, 4, 0, 3, 5, 4, 3, 0, 0, 5, 1, 5, 4, 0, 3, 2, 0, 1, 4, 5, 2, 2, 0, 2, 0, 4, 1, 3, 4, 3, 3, 3, 3, 3, 2, 0, 1, 4, 0, 1, 1, 4, 4, 0, 3, 1, 3, 0, 1, 0, 2, 0, 5, 5, 1, 3, 1, 3, 3, 2, 3, 3, 3, 5, 0, 3, 3, 0, 2, 2, 1, 3, 1, 5, 4, 5, 5, 1, 2, 0, 3, 3, 3, 4, 1, 0, 1, 2, 2, 1, 4, 2, 0, 3, 3, 5, 1, 3, 5, 4, 1, 5, 1, 4, 1, 3, 0, 2, 4, 2, 0, 4, 2, 1, 5, 0, 2, 5, 1, 1, 3, 3, 0, 1, 3, 1, 4, 4, 3, 1, 3, 4, 4, 1, 4, 1, 3, 3, 0, 3, 1, 3, 2, 0, 0, 2, 0, 2, 4, 2, 2, 0, 5, 4, 3, 3, 4, 4, 1, 5, 5, 3, 3, 2, 1, 2, 3, 5, 4, 5, 2, 4, 2, 3, 4, 1, 0, 0, 2, 0, 5, 0, 3, 5, 4, 4, 1, 4, 1, 2, 0, 3, 2, 2, 1, 3, 1, 2, 1, 1, 4, 4, 1, 4, 5, 0, 2, 0, 1, 5, 1, 2, 1, 3, 1, 1, 4, 3, 5, 5, 1, 2, 1, 0, 5, 4, 0, 0, 4, 3, 4, 2, 2, 0, 2, 2, 4, 2, 2, 3, 2, 2, 4, 0, 0, 0, 0, 0, 1, 2, 4, 5, 2, 1, 0, 3, 2, 5, 4, 0, 4, 4, 0, 4, 4, 0, 1, 3, 4, 4, 3, 3, 2, 0, 3, 0, 1, 5, 5, 1, 0, 4, 5, 1, 0, 2, 1, 5, 5, 0, 0, 2, 5, 4, 5, 2, 5, 3, 5, 2, 3, 4, 2, 4, 4, 3, 3, 1, 1, 5, 0, 0, 3, 2, 3, 5, 0, 5, 5, 4, 0, 3, 4, 1, 2, 0, 1, 0, 1, 5, 5, 2, 4, 4, 4, 3, 0, 3, 2, 1, 1, 3, 1, 0, 2, 4, 4, 4, 0, 0, 4, 2, 0, 2, 2, 2, 0, 5, 0, 0, 2, 0, 2, 4, 2, 5, 4, 2, 3, 4, 5, 2, 1, 2, 3, 0, 1, 0, 4, 5, 1, 0, 1, 1, 3, 0, 4, 4, 0, 3, 5, 4, 0, 2, 4, 1, 1, 5, 5, 3, 3, 1, 2, 0, 4, 0, 1, 2, 5, 5, 3, 2, 5, 5, 5, 5, 2, 2, 4, 1, 1, 3, 5, 0, 3, 5, 2, 2, 0, 2, 3, 5, 3, 2, 2, 0, 3, 2, 2, 0, 2, 3, 3, 4, 5, 1, 3, 4, 2, 1, 4, 0, 3, 3, 3, 1, 5, 0, 2, 4, 4, 1, 0, 0, 1, 1, 4, 4, 4, 3, 1, 4, 1, 3, 3, 2, 2, 2, 4, 0, 5, 2, 3, 3, 5, 4, 0, 2, 1, 1, 3, 1, 4, 0, 2, 5, 5, 1, 5, 5, 4, 5, 1, 4, 3, 3, 2, 1, 1, 1, 4, 3, 3, 2, 1, 0, 3, 4, 1, 2, 2, 5, 1, 0, 5, 1, 5, 5, 2, 3, 2, 3, 1, 1, 5, 1, 1, 0, 4, 1, 0, 1, 5, 3, 1, 3, 2, 5, 2, 2, 2, 5, 0, 5, 4, 1, 1, 2, 0, 2, 3, 3, 2, 3, 2, 1, 1, 5, 1, 1, 2, 4, 4, 3, 0, 4, 0, 3, 1, 2, 1, 4, 2, 5, 3, 3, 0, 3, 3, 1, 1, 2, 3, 1, 1, 2, 0, 2, 3, 0, 0, 3, 1, 1, 3, 2, 1, 2, 2, 3, 5, 3, 3, 3, 4, 1, 2, 4, 4, 0, 4, 3, 0, 3, 1, 3, 4, 3, 5, 2, 5, 4, 1, 3, 0, 1, 0, 2, 1, 1, 2, 1, 3, 3, 4, 5, 4, 3, 3, 3, 0, 3, 5, 2, 3, 2, 3, 4, 2, 2, 1, 1, 4, 4, 2, 1, 0, 1, 4, 4, 4, 0, 3, 5, 3, 2, 2, 0, 2, 4, 5, 1, 5, 2, 0, 3, 4, 4, 4, 1, 0, 4, 1, 3, 4, 1, 4, 0, 2, 3, 1, 2, 3, 3, 2, 2, 2, 0, 5, 5, 0, 2, 2, 4, 5, 3, 1, 1, 4, 5, 0, 4, 4, 1, 1, 1, 1, 2, 2, 0, 2, 0, 2, 3, 0, 1, 3, 3, 0, 3, 5, 4, 1, 4, 5, 5, 3, 3, 2, 1, 5, 3, 4, 4, 5, 0, 4, 2, 1, 5, 1, 2, 3, 5, 3, 3, 2, 4, 4, 3, 1, 0, 2, 4, 2, 1, 2, 2, 0, 5, 1, 3, 1, 3, 0, 3, 2, 2, 1, 1, 4, 0, 1, 0, 1, 0, 3, 1, 0, 4, 1, 4, 2, 3, 1, 2, 1, 1, 3, 0, 5, 4, 4, 4, 3, 5, 0, 4, 3, 0, 4, 1, 2, 3, 0, 4, 4, 2, 5, 5, 0, 4, 0, 3, 0, 1, 4, 4, 1, 5, 0, 4, 4, 3, 1, 0, 5, 3, 4, 1, 4, 3, 1, 4, 3, 0, 4, 1, 1, 5, 5, 1, 1, 1, 3, 2, 3, 0, 4, 5, 3, 0, 4, 3, 4, 1, 5, 4, 5, 0, 0, 3, 2, 1, 2, 1, 3, 0, 2, 3, 4, 3, 1, 0, 4, 3, 1, 3, 0, 1, 5, 3, 1, 4, 3, 2, 3, 0, 0, 1, 4, 4, 5, 0, 4, 0, 2, 4, 4, 0, 2, 5, 4, 1, 4, 0, 4, 2, 2, 2, 2, 1, 3, 3, 0, 2, 2, 4, 3, 0, 4, 0, 0, 4, 2, 2, 2, 2, 0, 0, 0, 0, 4, 0, 5, 3, 3, 2, 0, 2, 3, 5, 5, 2, 4, 1, 3, 1, 4, 5, 0, 2, 0, 0, 3, 1, 3, 2, 4, 2, 0, 4, 1, 0, 0, 2, 4, 0, 4, 5, 5, 1, 5, 0, 4, 2, 1, 3, 5, 2, 2, 1, 3, 0, 3, 3, 1, 5, 1, 3, 3, 4, 1, 5, 5, 4, 4, 1, 5, 3, 1, 3, 1, 3, 0, 3, 2, 4, 3, 3, 0, 4, 2, 4, 5, 4, 5, 3, 4, 4, 3, 0, 4, 0, 4, 1, 3, 3, 5, 1, 5, 2, 1, 1, 0, 1, 1, 0, 5, 0, 5, 1, 3, 5, 4, 2, 4, 1, 5, 4, 3, 2, 1, 3, 1, 4, 3, 2, 5, 3, 3, 3, 4, 5, 3, 0, 1, 0, 4, 0, 2, 2, 4, 3, 1, 3, 1, 1, 2, 5, 1, 3, 1, 5, 5, 3, 0, 2, 1, 0, 4, 4, 1, 4, 4, 2, 3, 4, 0, 2, 2, 2, 3, 4, 4, 3, 1, 4, 4, 5, 4, 2, 3, 0, 3, 5, 3, 4, 2, 0, 0, 0, 3, 5, 0, 3, 1, 1, 1, 2, 5, 4, 1, 2, 0, 2, 3, 1, 3, 5, 0, 4, 2, 1, 5, 3, 3, 1, 4, 2, 3, 4, 4, 2, 5, 5, 1, 0, 2, 4, 0, 1, 2, 3, 4, 2, 3, 5, 0, 1, 4, 0, 3, 3, 4, 1, 4, 1, 4, 4, 1, 1, 1, 0, 3, 3, 1, 5, 3, 1, 0, 5, 4, 4, 0, 3, 5, 3, 3, 0, 3, 2, 4, 3, 4, 2, 1, 2, 4, 2, 5, 2, 2, 3, 2, 0, 4, 0, 0, 0, 2, 0, 0, 0, 1, 1, 2, 4, 5, 4, 4, 2, 2, 2, 1, 2, 5, 5, 0, 3, 4, 1, 2, 3, 1, 5, 4, 5, 3, 4, 0, 3, 0, 0, 2, 3, 4, 4, 4, 0, 4, 1, 1, 3, 2, 0, 2, 5, 3, 1, 0, 3, 3, 4, 3, 4, 1, 0, 4, 2, 1, 5, 0, 4, 1, 3, 2, 2, 0, 4, 0, 3, 5, 3, 3, 1, 5, 1, 0, 4, 3, 5, 1, 1, 5, 0, 4, 5, 4, 1, 3, 2, 2, 3, 3, 3, 5, 2, 5, 5, 0, 1, 5, 4, 1, 5, 1, 2, 0, 2, 4, 2, 4, 1, 1, 5, 2, 3, 0, 1, 1, 3, 2, 0, 0, 4, 1, 0, 5, 4, 3, 0, 0, 2, 2, 2, 3, 4, 2, 0, 2, 1, 3, 2, 0, 3, 5, 5, 5, 1, 5, 5, 0, 4, 5, 2, 5, 4, 0, 0, 5, 1, 2, 5, 3, 2, 1, 0, 3, 5, 5, 5, 2, 1, 0, 4, 3, 3, 5, 4, 4, 5, 3, 3, 0, 1, 5, 5, 4, 5, 0, 2, 1, 4, 3, 3, 2, 3, 1, 3, 2, 4, 3, 0, 0, 3, 5, 4, 5, 0, 1, 3, 3, 2, 5, 0, 4, 5, 5, 4, 0, 4, 2, 5, 2, 5, 1, 1, 1, 0, 1, 0, 5, 3, 1, 5, 4, 0, 1, 3, 0, 3, 2, 1, 2, 5, 2, 1, 4, 2, 1, 5, 5, 5, 1, 2, 3, 2, 2, 3, 1, 0, 5, 3, 2, 2, 0, 1, 2, 1, 3, 0, 0, 4, 3, 4, 3, 5, 4, 2, 3, 2, 2, 1, 4, 4, 3, 1, 2, 0, 1, 3, 1, 3, 4, 3, 0, 2, 4, 0, 2, 5, 1, 4, 3, 2, 5, 2, 2, 0, 2, 2, 5, 1, 1, 3, 3, 2, 1, 1, 1, 0, 3, 5, 4, 5, 0, 3, 3, 5, 5, 1, 0, 1, 5, 0, 4, 0, 2, 3, 4, 2, 2, 1, 4, 4, 0, 4, 1, 3, 4, 3, 3, 2, 0, 0, 0, 3, 0, 3, 1, 1, 4, 3, 1, 3, 3, 2, 0, 5, 4, 4, 1, 4, 2, 5, 3, 1, 4, 3, 4, 3, 1, 4, 5, 4, 3, 3, 0, 1, 3, 5, 0, 5, 3, 0, 1, 3, 3, 3, 1, 4, 4, 3, 0, 5, 2, 2, 1, 0, 1, 0, 1, 3, 1, 3, 4, 3, 5, 5, 1, 4, 5, 1, 2, 0, 3, 3, 3, 3, 0, 4, 2, 3, 2, 5, 3, 3, 3, 1, 5, 4, 1, 0, 1, 0, 5, 1, 5, 5, 2, 4, 5, 2, 0, 2, 3, 3, 2, 4, 3, 4, 1, 2, 1, 1, 1, 2, 3, 0, 3, 0, 2, 3, 0, 2, 4, 3, 4, 3, 0, 3, 1, 3, 3, 2, 2, 1, 2, 3, 1, 0, 2, 3, 0, 1, 3, 4, 2, 4, 2, 1, 3, 4, 0, 5, 1, 2, 4, 5, 0, 2, 5, 4, 4, 0, 3, 4, 1, 1, 0, 2, 4, 5, 4, 1, 4, 2, 1, 5, 1, 0, 3, 3, 5, 4, 2, 4, 4, 5, 2, 0, 4, 2, 0, 4, 1, 1, 1, 0, 5, 3, 1, 1, 1, 3, 2, 5, 0, 0, 0, 4, 3, 1, 2, 1, 0, 1, 4, 5, 0, 4, 2, 0, 0, 3, 0, 3, 0, 4, 4, 4, 0, 0, 3, 4, 0, 1, 2, 5, 4, 3, 4, 2, 5, 5, 2, 3, 3, 0, 3, 3, 3, 4, 5, 2, 0, 5, 0, 0, 3, 4, 2, 3, 5, 3, 1, 2, 1, 2, 3, 2, 0, 0, 4, 5, 2, 2, 5, 4, 0, 3, 5, 0, 1, 0, 5, 2, 5, 3, 4, 4, 0, 2, 1, 1, 3, 5, 1, 0, 2, 0, 3, 0, 3, 0, 1, 3, 3, 1, 4, 0, 0, 5, 0, 1, 5, 1, 1, 2, 2, 2, 1, 2, 4, 0, 4, 2, 0, 3, 5, 0, 1, 3, 2, 0, 2, 4, 3, 0, 2, 1, 1, 2, 3, 0, 5, 1, 5, 5, 4, 1, 1, 3, 3, 1, 5, 4, 5, 5, 0, 3, 2, 1, 2, 5, 3, 3, 2, 2, 5, 4, 5, 1, 1, 3, 3, 2, 0, 1, 4, 4, 1, 4, 1, 3, 1, 5, 4, 4, 3, 5, 4, 1, 4, 3, 1, 0, 5, 0, 2, 0, 3, 4, 3, 5, 1, 5, 5, 1, 0, 4, 5, 3, 3, 4, 4, 1, 0, 1, 0, 1, 1, 1, 0, 3, 4, 2, 5, 4, 0, 5, 5, 5, 5, 0, 1, 1, 3, 4, 3, 0, 4, 5, 3, 4, 1, 5, 3, 2, 1, 1, 0, 5, 2, 5, 1, 4, 1, 5, 2, 3, 1, 1, 0, 1, 1, 3, 0, 3, 5, 1, 3, 2, 4, 2, 2, 2, 4, 0, 0, 0, 2, 3, 0, 3, 1, 3, 1, 1, 1, 2, 1, 2, 2, 3, 3, 5, 3, 3, 4, 0, 3, 0, 1, 3, 4, 1, 1, 0, 1, 3, 1, 5, 0, 2, 4, 1, 2, 2, 2, 0, 1, 3, 1, 1, 4, 1, 4, 4, 2, 1, 5, 0, 2, 3, 4, 1, 5, 1, 5, 0, 5, 3, 5, 1, 3, 4, 1, 1, 0, 5, 2, 3, 4, 5, 2, 4, 2, 3, 1, 5, 3, 0, 5, 5, 3, 0, 4, 4, 4, 4, 4, 2, 1, 4, 4, 3, 3, 1, 1, 3, 3, 0, 2, 5, 4, 3, 3, 5, 2, 1, 0, 1, 3, 0, 2, 3, 3, 0, 4, 1, 3, 3, 1, 1, 2, 4, 2, 5, 0, 3, 2, 3, 1, 4, 3, 5, 5, 5, 1, 5, 0, 1, 1, 1, 1, 4, 2, 3, 5, 3, 4, 0, 0, 1, 2, 1, 1, 5, 4, 2, 5, 0, 0, 5, 4, 1, 3, 3, 4, 0, 5, 4, 0, 4, 3, 0, 1, 1, 0, 4, 1, 3, 1, 3, 4, 2, 4, 5, 0, 3, 1, 0, 0, 0, 5, 2, 4, 0, 3, 5, 4, 3, 4, 3, 4, 4, 1, 3, 1, 1, 0, 1, 1, 4, 2, 2, 3, 1, 4, 3, 0, 2, 2, 4, 1, 0, 1, 3, 2, 5, 5, 3, 1, 3, 2, 3, 2, 5, 1, 0, 5, 2, 0, 3, 0, 5, 1, 1, 3, 5, 0, 4, 1, 3, 1, 2, 2, 3, 1, 1, 4, 4, 3, 4, 2, 3, 5, 2, 1, 0, 5, 1, 0, 2, 1, 4, 0, 1, 4, 2, 2, 2, 5, 2, 3, 2, 1, 0, 1, 2, 2, 0, 0, 4, 1, 3, 3, 3, 2, 4, 4, 1, 4, 2, 3, 4, 3, 1, 5, 4, 5, 3, 1, 0, 1, 2, 3, 1, 2, 2, 1, 0, 3, 1, 3, 5, 0, 1, 5, 4, 3, 4, 4, 5, 1, 5, 0, 1, 4, 3, 1, 4, 1, 3, 4, 0, 4, 0, 0, 2, 2, 0, 2, 2, 4, 1, 3, 1, 2, 3, 3, 0, 5, 0, 3, 2, 5, 1, 1, 3, 1, 2, 3, 0, 2, 2, 3, 4, 3, 3, 4, 1, 0, 4, 0, 2, 4, 4, 1, 2, 4, 4, 5, 4, 1, 2, 4, 1, 3, 1, 5, 1, 2, 5, 3, 4, 3, 0, 3, 3, 5, 4, 2, 5, 0, 1, 1, 1, 5, 0, 3, 0, 2, 4, 1, 3, 3, 1, 4, 0, 5, 0, 4, 1, 2, 3, 2, 0, 5, 0, 0, 5, 0, 2, 2, 0, 5, 0, 1, 0, 1, 2, 3, 0, 0, 1, 2, 5, 3, 4, 3, 5, 2, 4, 4, 4, 1, 3, 4, 4, 2, 4, 1, 3, 4, 5, 5, 2, 2, 1, 3, 2, 0, 3, 3, 4, 4, 1, 1, 5, 4, 3, 0, 0, 5, 0, 1, 2, 5, 1, 1, 3, 4, 5, 1, 1, 0, 1, 0, 1, 2, 5, 0, 1, 3, 2, 4, 4, 3, 0, 2, 3, 1, 1, 0, 1, 3, 5, 5, 4, 0, 2, 0, 4, 0, 2, 4, 5, 0, 4, 5, 1, 0, 4, 2, 3, 0, 0, 1, 1, 0, 1, 3, 1, 1, 1, 2, 4, 2, 3, 4, 0, 5, 4, 3, 2, 5, 0, 4, 2, 0, 4, 3, 0, 4, 4, 0, 0, 4, 3, 1, 0, 0, 2, 0, 4, 4, 3, 0, 0, 3, 0, 3, 1, 3, 2, 4, 5, 4, 0, 2, 0, 1, 3, 3, 0, 1, 3, 2, 4, 2, 0, 4, 4, 0, 0, 5, 3, 2, 2, 3, 4, 4, 4, 2, 5, 3, 1, 1, 4, 0, 3, 2, 5, 4, 1, 5, 1, 3, 3, 2, 4, 5, 2, 1, 4, 0, 1, 1, 5, 3, 2, 4, 1, 2, 1, 0, 0, 5, 0, 3, 4, 1, 0, 4, 4, 0, 0, 0, 5, 3, 3, 4, 5, 3, 1, 5, 2, 2, 2, 4, 5, 2, 4, 1, 2, 2, 5, 0, 1, 1, 0, 2, 2, 0, 1, 0, 1, 3, 0, 4, 5, 2, 3, 0, 0, 1, 5, 2, 5, 4, 2, 0, 1, 4, 1, 0, 3, 1, 4, 5, 1, 1, 5, 3, 1, 1, 2, 2, 1, 0, 5, 5, 4, 3, 3, 4, 3, 1, 4, 0, 5, 3, 3, 0, 2, 4, 0, 5, 0, 3, 1, 0, 4, 4, 0, 3, 5, 2, 1, 4, 2, 1, 1, 0, 3, 1, 0, 1, 2, 1, 1, 3, 0, 3, 5, 3, 2, 5, 5, 5, 4, 2, 1, 0, 3, 3, 4, 4, 5, 4, 3, 4, 0, 2, 2, 1, 1, 3, 0, 4, 0, 4, 4, 1, 4, 4, 1, 0, 1, 2, 5, 4, 1, 3, 0, 0, 1, 0, 1, 1, 3, 3, 2, 3, 5, 4, 1, 5, 5, 4, 3, 0, 3, 1, 2, 1, 3, 0, 4, 0, 1, 0, 2, 3, 3, 0, 3, 4, 3, 0, 2, 4, 1, 0, 1, 3, 0, 4, 1, 0, 1, 2, 3, 5, 1, 0, 1, 3, 2, 2, 5, 3, 1, 5, 4, 1, 0, 3, 5, 5, 3, 4, 3, 0, 4, 0, 4, 2, 4, 3, 2, 4, 4, 0, 1, 3, 2, 5, 0, 4, 3, 2, 1, 2, 1, 1, 4, 2, 3, 0, 4, 2, 2, 3, 4, 5, 4, 0, 3, 3, 0, 3, 0, 0, 3, 0, 0, 4, 5, 1, 0, 2, 1, 4, 0, 4, 1, 3, 2, 3, 1, 5, 2, 2, 3, 3, 1, 4, 2, 3, 5, 2, 2, 4, 2, 1, 2, 1, 3, 4, 2, 0, 1, 0, 5, 4, 4, 2, 4, 5, 3, 2, 1, 5, 4, 0, 5, 3, 4, 3, 3, 5, 0, 2, 5, 4, 1, 5, 4, 2, 3, 0, 3, 2, 2, 4, 5, 2, 3, 1, 2, 5, 4, 2, 4, 3, 3, 4, 4, 4, 2, 2, 3, 1, 1, 4, 0, 3, 0, 3, 3, 1, 1, 0, 4, 2, 1, 0, 3, 3, 0, 5, 1, 5, 1, 3, 2, 1, 3, 1, 0, 0, 5, 3, 1, 4, 5, 3, 4, 0, 2, 0, 5, 4, 2, 0, 1, 3, 4, 3, 1, 4, 0, 2, 5, 5, 1, 0, 5, 0, 3, 4, 4, 5, 5, 1, 5, 1, 3, 0, 1, 5, 3, 4, 4, 3, 0, 3, 0, 1, 2, 2, 5, 2, 0, 4, 3, 3, 2, 4, 4, 2, 0, 5, 4, 4, 3, 2, 5, 2, 2, 5, 3, 1, 2, 0, 5, 4, 5, 0, 3, 1, 4, 3, 3, 5, 0, 3, 0, 0, 3, 1, 3, 1, 0, 3, 2, 3, 0, 2, 5, 1, 4, 1, 3, 1, 3, 2, 2, 0, 3, 4, 2, 4, 3, 1, 3, 2, 0, 5, 2, 2, 2, 4, 1, 5, 1, 3, 2, 1, 5, 2, 5, 0, 0, 3, 4, 3, 1, 0, 0, 5, 3, 4, 1, 0, 3, 3, 5, 4, 0, 1, 3, 1, 3, 2, 3, 3, 4, 4, 3, 0, 4, 3, 4, 4, 5, 5, 3, 1, 3, 1, 4, 4, 1, 1, 5, 2, 2, 4, 5, 3, 0, 3, 0, 5, 0, 1, 3, 5, 1, 0, 3, 4, 2, 2, 4, 0, 2, 2, 4, 3, 4, 1, 4, 0, 1, 4, 5, 1, 5, 0, 4, 2, 3, 3, 5, 2, 0, 1, 5, 0, 3, 4, 4, 4, 1, 2, 1, 3, 2, 3, 1, 1, 3, 0, 0, 4, 1, 3, 1, 1, 5, 4, 1, 1, 0, 5, 2, 1, 4, 4, 4, 1, 2, 4, 0, 3, 5, 3, 5, 0, 4, 3, 0, 2, 5, 3, 4, 3, 0, 5, 0, 3, 5, 0, 3, 5, 2, 1, 4, 1, 5, 2, 0, 5, 1, 0, 1, 3, 3, 1, 5, 2, 1, 5, 1, 3, 1, 0, 5, 3, 3, 1, 4, 1, 0, 4, 0, 1, 0, 2, 1, 3, 4, 0, 3, 0, 0, 0, 1, 1, 1, 2, 2, 0, 1, 0, 0, 0, 5, 1, 3, 4, 4, 3, 4, 4, 2, 1, 5, 5, 2, 4, 0, 4, 4, 4, 2, 3, 4, 4, 1, 3, 3, 2, 3, 5, 2, 2, 4, 4, 0, 1, 2, 0, 0, 4, 3, 3, 2, 5, 3, 1, 3, 1, 4, 2, 1, 1, 0, 4, 3, 5, 1, 1, 1, 0, 5, 2, 2, 5, 4, 0, 3, 0, 5, 1, 1, 3, 5, 4, 4, 3, 1, 5, 4, 1, 5, 4, 4, 4, 3, 4, 2, 0, 5, 3, 1, 2, 3, 4, 4, 1, 5, 3, 3, 5, 1, 2, 1, 1, 4, 5, 5, 1, 0, 3, 3, 1, 2, 5, 4, 5, 5, 4, 3, 1, 5, 2, 4, 4, 2, 1, 3, 4, 4, 5, 3, 5, 0, 2, 5, 5, 1, 1, 2, 4, 2, 4, 4, 3, 2, 5, 4, 4, 4, 0, 4, 5, 2, 3, 1, 3, 2, 0, 0, 4, 4, 1, 0, 3, 0, 4, 2, 3, 2, 0, 1, 0, 5, 2, 0, 1, 4, 4, 4, 2, 2, 0, 0, 1, 1, 2, 1, 3, 2, 0, 4, 3, 1, 2, 1, 2, 1, 3, 2, 2, 4, 0, 1, 2, 2, 2, 1, 2, 3, 1, 1, 3, 5, 5, 3, 5, 0, 5, 1, 3, 4, 2, 5, 4, 1, 1, 3, 5, 4, 4, 4, 0, 5, 0, 5, 1, 4, 2, 2, 4, 2, 2, 2, 2, 4, 3, 3, 4, 4, 3, 4, 0, 2, 5, 1, 5, 4, 1, 1, 4, 2, 5, 4, 0, 3, 2, 0, 4, 0, 3, 5, 0, 0, 4, 2, 0, 3, 2, 5, 1, 1, 1, 2, 0, 5, 3, 4, 3, 1, 4, 4, 2, 4, 5, 5, 4, 5, 3, 0, 1, 5, 0, 5, 4, 4, 0, 2, 0, 0, 3, 2, 2, 4, 2, 1, 2, 2, 0, 4, 0, 5, 5, 0, 2, 3, 1, 1, 4, 2, 4, 3, 4, 2, 3, 4, 1, 0, 3, 4, 5, 0, 4, 5, 2, 1, 3, 1, 4, 3, 5, 3, 2, 3, 3, 4, 5, 1, 0, 3, 5, 5, 4, 5, 3, 0, 0, 1, 2, 0, 4, 3, 2, 2, 3, 5, 2, 3, 2, 4, 4, 3, 5, 2, 3, 2, 1, 0, 2, 1, 4, 1, 1, 1, 5, 1, 3, 4, 5, 4, 1, 4, 1, 2, 4, 3, 2, 2, 4, 4, 1, 4, 2, 3, 5, 1, 0, 0, 4, 2, 2, 2, 1, 5, 1, 1, 3, 5, 0, 2, 1, 0, 3, 3, 1, 3, 3, 5, 1, 3, 3, 1, 1, 1, 2, 0, 0, 0, 0, 5, 2, 3, 3, 5, 3, 5, 3, 2, 3, 2, 1, 2, 4, 2, 2, 3, 4, 3, 2, 2, 3, 1, 2, 2, 3, 4, 4, 3, 5, 1, 3, 4, 4, 1, 0, 1, 1, 2, 3, 4, 5, 3, 4, 0, 4, 3, 4, 4, 3, 1, 0, 2, 4, 0, 0, 2, 0, 1, 1, 1, 1, 3, 2, 2, 2, 0, 4, 4, 0, 2, 5, 1, 1, 1, 0, 3, 1, 0, 2, 2, 0, 3, 5, 1, 4, 4, 3, 1, 2, 0, 1, 4, 0, 5, 4, 2, 1, 4, 1, 3, 4, 4, 4, 2, 0, 4, 3, 3, 4, 5, 3, 1, 0, 5, 4, 0, 1, 0, 0, 1, 3, 0, 2, 4, 1, 3, 4, 0, 5, 2, 4, 3, 1, 1, 5, 3, 0, 2, 0, 1, 0, 1, 3, 2, 4, 3, 4, 0, 2, 4, 2, 2, 4, 3, 3, 0, 1, 1, 0, 3, 0, 4, 4, 3, 3, 1, 4, 3, 0, 2, 4, 0, 2, 4, 1, 4, 4, 3, 5, 4, 1, 3, 5, 3, 5, 3, 0, 0, 4, 5, 4, 1, 2, 0, 2, 1, 1, 2, 2, 0, 4, 1, 4, 3, 5, 4, 2, 3, 0, 1, 3, 3, 1, 1, 1, 1, 3, 1, 4, 0, 1, 0, 0, 0, 3, 4, 0, 0, 0, 4, 3, 2, 2, 1, 1, 2, 3, 4, 4, 3, 1, 1, 0, 0, 1, 0, 1, 2, 4, 4, 2, 1, 3, 1, 0, 1, 2, 5, 0, 3, 0, 3, 2, 1, 0, 4, 3, 0, 3, 1, 4, 4, 2, 3, 4, 1, 3, 0, 0, 2, 1, 5, 0, 2, 3, 4, 0, 2, 3, 0, 1, 1, 1, 2, 4, 1, 1, 1, 1, 3, 3, 5, 1, 4, 1, 0, 4, 4, 3, 5, 1, 3, 1, 3, 3, 5, 3, 5, 1, 5, 5, 3, 3, 2, 4, 2, 3, 2, 0, 0, 4, 4, 5, 4, 3, 2, 1, 0, 2, 1, 5, 5, 4, 5, 4, 0, 4, 4, 4, 1, 4, 1, 1, 2, 3, 5, 4, 4, 5, 4, 2, 1, 0, 2, 2, 2, 5, 1, 2, 4, 4, 5, 0, 3, 3, 0, 5, 4, 1, 0, 2, 0, 3, 4, 1, 1, 4, 0, 1, 4, 5, 5, 2, 3, 5, 5, 3, 0, 0, 5, 2, 0, 5, 4, 5, 5, 3, 2, 0, 1, 5, 3, 3, 2, 5, 4, 0, 2, 1, 5, 4, 1, 5, 4, 4, 3, 1, 3, 5, 5, 5, 2, 3, 3, 0, 0, 0, 1, 3, 4, 0, 2, 2, 3, 1, 1, 4, 4, 4, 5, 3, 5, 3, 3, 2, 5, 2, 1, 5, 0, 1, 2, 4, 0, 5, 1, 3, 1, 4, 2, 4, 1, 5, 2, 4, 5, 0, 5, 3, 1, 4, 1, 0, 1, 2, 0, 5, 0, 1, 2, 1, 3, 1, 2, 0, 0, 2, 1, 3, 2, 3, 3, 3, 1, 5, 1, 5, 5, 2, 3, 4, 2, 4, 5, 3, 0, 5, 2, 3, 4, 3, 3, 0, 4, 2, 5, 4, 4, 2, 1, 4, 4, 5, 3, 2, 2, 2, 1, 0, 1, 1, 4, 4, 3, 3, 3, 4, 0, 4, 1, 1, 5, 4, 5, 3, 3, 2, 3, 4, 4, 3, 5, 2, 1, 5, 5, 3, 4, 1, 2, 3, 4, 3, 5, 4, 0, 3, 2, 1, 2, 2, 3, 0, 3, 1, 5, 0, 1, 4, 5, 1, 2, 5, 1, 0, 4, 1, 1, 3, 2, 5, 3, 2, 4, 1, 0, 0, 0, 0, 1, 3, 4, 1, 1, 0, 3, 0, 0, 2, 0, 4, 1, 0, 0, 4, 4, 2, 1, 4, 5, 1, 5, 5, 0, 1, 1, 4, 3, 1, 3, 0, 1, 1, 2, 4, 2, 2, 4, 0, 5, 5, 5, 1, 2, 4, 4, 2, 1, 4, 4, 4, 2, 2, 2, 3, 1, 3, 0, 1, 3, 5, 0, 0, 4, 0, 2, 5, 5, 3, 4, 3, 3, 4, 2, 3, 0, 2, 5, 1, 4, 2, 0, 4, 3, 0, 3, 1, 2, 3, 1, 3, 0, 3, 1, 4, 4, 2, 2, 1, 4, 0, 2, 4, 0, 0, 4, 5, 0, 0, 4, 3, 2, 4, 4, 5, 2, 3, 3, 0, 0, 3, 3, 3, 3, 0, 1, 0, 3, 1, 5, 0, 1, 3, 3, 0, 0, 1, 3, 0, 2, 1, 5, 4, 2, 2, 4, 2, 3, 5, 5, 0, 5, 5, 4, 0, 2, 1, 0, 5, 5, 5, 1, 2, 0, 5, 2, 5, 4, 0, 0, 3, 0, 1, 4, 5, 1, 3, 2, 3, 3, 3, 0, 3, 3, 2, 2, 2, 4, 1, 1, 4, 1, 0, 0, 2, 0, 3, 5, 0, 4, 2, 3, 1, 0, 5, 1, 4, 3, 4, 4, 3, 4, 1, 5, 3, 2, 2, 5, 0, 1, 4, 2, 0, 5, 0, 5, 5, 4, 4, 1, 2, 2, 3, 2, 2, 4, 2, 2, 1, 1, 1, 1, 5, 3, 2, 5, 1, 4, 3, 1, 4, 4, 0, 3, 2, 3, 2, 0, 4, 0, 2, 5, 3, 5, 3, 1, 0, 1, 3, 2, 3, 2, 2, 4, 3, 4, 5, 4, 1, 5, 5, 3, 3, 4, 4, 5, 3, 2, 1, 3, 3, 3, 2, 2, 3, 0, 5, 1, 5, 1, 2, 1, 0, 4, 2, 3, 5, 4, 0, 5, 4, 0, 0, 4, 4, 5, 4, 5, 2, 1, 1, 4, 2, 5, 4, 2, 1, 2, 1, 4, 0, 4, 3, 3, 0, 2, 3, 4, 3, 3, 4, 4, 3, 2, 1, 0, 2, 1, 5, 2, 1, 3, 0, 5, 2, 3, 5, 0, 4, 0, 1, 4, 4, 4, 3, 2, 0, 5, 3, 5, 1, 4, 2, 4, 0, 4, 2, 1, 5, 4, 1, 2, 1, 5, 4, 3, 3, 1, 2, 5, 4, 2, 0, 1, 0, 4, 1, 2, 2, 0, 1, 0, 3, 5, 2, 1, 3, 0, 2, 2, 5, 0, 0, 2, 5, 1, 0, 5, 0, 4, 1, 3, 4, 0, 1, 4, 0, 4, 0, 3, 0, 5, 4, 3, 0, 3, 2, 2, 3, 2, 1, 5, 2, 3, 3, 2, 1, 1, 0, 0, 2, 2, 4, 1, 0, 5, 1, 1, 0, 3, 1, 5, 1, 4, 4, 2, 0, 3, 4, 2, 1, 1, 0, 4, 4, 3, 1, 0, 0, 5, 5, 5, 0, 2, 4, 3, 5, 2, 0, 3, 0, 5, 0, 0, 1, 2, 1, 5, 3, 1, 0, 4, 4, 0, 1, 4, 1, 4, 1, 1, 2, 4, 5, 5, 3, 0, 3, 1, 4, 3, 1, 4, 5, 2, 3, 1, 5, 0, 0, 4, 1, 2, 0, 2, 4, 3, 4, 4, 1, 0, 2, 3, 1, 3, 3, 4, 0, 1, 0, 3, 1, 3, 0, 5, 0, 2, 5, 0, 2, 2, 3, 4, 3, 1, 2, 4, 1, 4, 0, 1, 3, 4, 2, 1, 5, 5, 5, 0, 3, 0, 3, 3, 2, 2, 1, 1, 5, 2, 1, 5, 0, 0, 4, 3, 4, 1, 1, 1, 2, 1, 4, 3, 0, 0, 4, 2, 4, 3, 1, 0, 3, 2, 4, 2, 2, 2, 1, 0, 2, 5, 0, 3, 2, 2, 3, 0, 2, 4, 3, 4, 5, 5, 2, 0, 1, 0, 3, 1, 4, 2, 5, 4, 2, 2, 3, 3, 0, 4, 3, 5, 4, 1, 1, 0, 5, 1, 5, 4, 3, 0, 0, 1, 4, 2, 2, 3, 3, 1, 1, 5, 0, 2, 4, 4, 5, 0, 2, 1, 1, 4, 2, 3, 3, 5, 3, 4, 4, 0, 0, 1, 5, 5, 5, 1, 1, 4, 5, 5, 2, 3, 4, 0, 4, 1, 3, 5, 3, 1, 4, 2, 5, 0, 3, 3, 0, 2, 5, 3, 5, 3, 3, 2, 0, 3, 4, 4, 0, 2, 0, 1, 0, 0, 2, 4, 3, 4, 4, 2, 4, 3, 2, 3, 1, 1, 3, 0, 3, 3, 1, 5, 3, 1, 1, 0, 2, 0, 1, 3, 4, 1, 4, 3, 2, 0, 4, 1, 1, 1, 3, 4, 4, 5, 2, 5, 5, 2, 5, 4, 4, 1, 4, 4, 5, 2, 3, 3, 0, 3, 0, 4, 4, 5, 0, 0, 1, 4, 1, 1, 0, 4, 3, 2, 3, 1, 4, 5, 2, 3, 2, 0, 0, 4, 0, 5, 2, 2, 0, 1, 1, 0, 1, 0, 1, 5, 1, 4, 4, 5, 4, 5, 3, 5, 3, 4, 1, 0, 1, 2, 2, 1, 1, 4, 2, 2, 3, 3, 1, 2, 5, 5, 4, 2, 5, 4, 2, 1, 3, 5, 5, 2, 0, 1, 3, 4, 0, 3, 3, 3, 4, 0, 4, 1, 2, 3, 2, 1, 5, 2, 3, 3, 2, 0, 3, 5, 1, 3, 2, 2, 5, 2, 2, 3, 1, 0, 2, 3, 1, 2, 5, 0, 2, 2, 3, 2, 5, 2, 2, 3, 3, 2, 4, 0, 3, 4, 1, 1, 5, 3, 5, 5, 5, 1, 5, 0, 1, 5, 0, 4, 2, 0, 1, 3, 0, 4, 3, 2, 1, 4, 2, 1, 1, 0, 4, 5, 1, 3, 0, 5, 5, 1, 0, 1, 3, 0, 0, 2, 4, 4, 4, 2, 4, 3, 2, 2, 0, 3, 0, 4, 0, 4, 3, 5, 5, 4, 2, 5, 1, 5, 2, 4, 4, 2, 5, 4, 3, 2, 4, 0, 0, 2, 3, 2, 5, 2, 1, 2, 4, 3, 1, 1, 1, 2, 5, 1, 3, 1, 4, 4, 3, 5, 0, 1, 3, 1, 3, 4, 1, 0, 2, 5, 5, 2, 2, 2, 2, 3, 1, 3, 3, 3, 4, 2, 1, 4, 0, 2, 3, 3, 3, 1, 2, 1, 2, 0, 4, 5, 0, 0, 2, 3, 1, 3, 5, 3, 5, 2, 2, 2, 0, 5, 2, 1, 5, 5, 0, 4, 3, 2, 1, 0, 5, 0, 2, 1, 2, 1, 2, 1, 4, 1, 3, 0, 4, 1, 5, 1, 3, 2, 2, 3, 0, 4, 2, 3, 1, 2, 3, 0, 0, 5, 4, 2, 1, 4, 0, 0, 1, 4, 2, 1, 2, 3, 0, 4, 4, 1, 1, 0, 1, 2, 3, 0, 4, 2, 0, 1, 4, 4, 5, 4, 4, 0, 1, 3, 0, 4, 2, 1, 1, 4, 4, 3, 5, 2, 0, 2, 4, 1, 2, 4, 4, 1, 2, 4, 1, 1, 1, 0, 0, 1, 0, 5, 1, 3, 0, 1, 2, 0, 4, 2, 4, 1, 3, 1, 2, 4, 0, 1, 0, 0, 5, 5, 4, 4, 3, 3, 1, 2, 4, 0, 4, 4, 1, 2, 4, 4, 1, 5, 2, 1, 4, 5, 3, 5, 0, 0, 1, 1, 4, 2, 3, 0, 2, 1, 3, 0, 5, 2, 1, 5, 3, 2, 1, 4, 3, 5, 1, 0, 4, 3, 3, 2, 2, 3, 1, 1, 0, 3, 1, 2, 1, 0, 0, 1, 2, 4, 5, 0, 1, 3, 0, 2, 5, 2, 1, 2, 0, 2, 4, 0, 1, 2, 5, 3, 3, 0, 0, 1, 3, 1, 2, 5, 4, 3, 4, 1, 1, 1, 0, 5, 2, 2, 1, 4, 0, 2, 1, 0, 0, 4, 3, 1, 0, 0, 0, 2, 4, 5, 3, 1, 5, 4, 4, 1, 2, 3, 0, 0, 5, 4, 0, 3, 2, 2, 3, 1, 3, 3, 3, 1, 0, 3, 2, 4, 5, 1, 4, 5, 4, 0, 4, 0, 4, 5, 5, 1, 1, 2, 5, 3, 4, 0, 3, 1, 2, 2, 5, 5, 3, 1, 4, 2, 2, 2, 3, 4, 3, 3, 5, 2, 4, 2, 2, 1, 4, 3, 4, 4, 2, 3, 5, 5, 1, 0, 2, 4, 1, 5, 0, 1, 1, 3, 2, 5, 4, 0, 4, 1, 0, 1, 1, 2, 5, 4, 0, 4, 0, 1, 3, 5, 2, 5, 0, 0, 1, 5, 3, 3, 4, 3, 4, 0, 4, 4, 2, 0, 4, 1, 0, 4, 3, 4, 2, 0, 4, 4, 4, 3, 2, 4, 3, 5, 4, 0, 1, 1, 3, 4, 0, 0, 1, 1, 4, 0, 4, 0, 3, 3, 1, 4, 0, 0, 4, 3, 1, 1, 1, 3, 3, 0, 0, 1, 5, 3, 2, 4, 4, 0, 0, 0, 1, 1, 3, 2, 4, 0, 0, 3, 5, 4, 3, 2, 4, 3, 0, 5, 5, 5, 0, 1, 3, 2, 4, 2, 2, 1, 3, 3, 4, 5, 1, 3, 2, 3, 0, 2, 3, 1, 5, 3, 0, 5, 4, 5, 3, 3, 4, 1, 2, 3, 3, 5, 0, 1, 5, 3, 4, 5, 4, 1, 0, 4, 2, 1, 5, 4, 3, 1, 5, 0, 2, 1, 3, 2, 1, 0, 1, 4, 2, 1, 4, 2, 0, 4, 4, 0, 0, 2, 4, 4, 2, 0, 5, 0, 4, 5, 0, 1, 1, 3, 1, 0, 5, 1, 4, 2, 5, 1, 1, 1, 5, 1, 5, 2, 5, 2, 2, 2, 2, 4, 4, 4, 1, 4, 5, 2, 5, 4, 4, 1, 1, 2, 2, 0, 2, 3, 5, 4, 4, 2, 1, 5, 5, 3, 3, 2, 3, 0, 4, 4, 2, 0, 5, 1, 2, 0, 2, 1, 0, 1, 1, 0, 5, 2, 1, 4, 1, 2, 0, 1, 4, 3, 2, 4, 0, 1, 0, 3, 1, 5, 4, 0, 1, 0, 1, 2, 1, 3, 1, 1, 2, 5, 3, 3, 1, 5, 2, 5, 1, 0, 5, 4, 0, 0, 1, 0, 4, 4, 1, 1, 3, 5, 0, 3, 4, 2, 3, 3, 3, 4, 1, 4, 2, 3, 0, 1, 1, 2, 1, 2, 2, 1, 0, 0, 1, 1, 2, 5, 3, 3, 0, 5, 3, 1, 3, 5, 5, 2, 1, 1, 4, 1, 3, 1, 3, 5, 5, 5, 4, 5, 0, 3, 0, 0, 1, 4, 4, 4, 3, 2, 5, 1, 4, 2, 0, 4, 2, 2, 1, 3, 5, 0, 3, 5, 2, 4, 5, 0, 1, 3, 0, 2, 1, 4, 2, 2, 4, 5, 1, 2, 0, 5, 2, 4, 0, 3, 0, 4, 1, 2, 0, 1, 2, 0, 2, 5, 2, 2, 4, 2, 5, 4, 1, 2, 1, 5, 4, 4, 4, 3, 5, 5, 1, 1, 1, 4, 2, 0, 1, 1, 2, 2, 4, 0, 4, 2, 1, 0, 5, 3, 3, 5, 0, 3, 3, 5, 3, 3, 5, 0, 5, 5, 1, 3, 5, 2, 2, 3, 1, 2, 0, 1, 1, 0, 1, 0, 0, 0, 0, 2, 0, 0, 2, 2, 2, 0, 2, 1, 4, 1, 0, 2, 4, 0, 0, 0, 1, 0, 3, 2, 0, 4, 3, 3, 5, 4, 1, 2, 5, 3, 3, 5, 1, 1, 1, 1, 3, 0, 3, 5, 4, 3, 4, 2, 4, 1, 2, 1, 5, 3, 3, 0, 5, 5, 1, 5, 2, 0, 0, 4, 2, 4, 4, 3, 0, 2, 0, 0, 2, 5, 5, 1, 5, 4, 5, 3, 2, 3, 3, 5, 5, 0, 5, 0, 4, 1, 1, 0, 0, 1, 2, 0, 0, 3, 3, 3, 3, 2, 0, 3, 3, 2, 1, 5, 5, 2, 3, 3, 2, 1, 3, 3, 3, 3, 2, 3, 5, 5, 3, 3, 5, 5, 3, 2, 4, 2, 3, 4, 3, 0, 4, 3, 5, 4, 4, 2, 5, 2, 3, 0, 4, 0, 1, 2, 1, 2, 1, 0, 4, 3, 5, 1, 0, 0, 0, 0, 1, 2, 3, 5, 4, 5, 3, 0, 3, 2, 2, 4, 4, 0, 5, 5, 3, 1, 0, 2, 0, 4, 1, 1, 0, 5, 4, 5, 4, 4, 2, 3, 1, 5, 1, 0, 1, 2, 2, 4, 2, 2, 5, 1, 5, 1, 1, 2, 4, 3, 3, 3, 3, 4, 5, 0, 4, 3, 5, 4, 1, 0, 1, 1, 5, 0, 4, 2, 0, 5, 1, 2, 1, 1, 1, 4, 0, 3, 5, 3, 1, 4, 4, 4, 2, 1, 0, 5, 0, 1, 1, 0, 5, 3, 0, 5, 4, 1, 3, 5, 3, 1, 5, 2, 1, 0, 0, 1, 3, 1, 5, 3, 5, 3, 1, 4, 5, 4, 4, 0, 3, 2, 2, 5, 5, 3, 3, 2, 2, 5, 4, 5, 5, 5, 2, 0, 3, 2, 0, 3, 4, 1, 1, 3, 4, 2, 1, 1, 5, 5, 2, 3, 4, 2, 4, 0, 5, 2, 4, 2, 4, 2, 4, 2, 4, 0, 1, 0, 0, 2, 1, 2, 0, 0, 0, 1, 0, 2, 0, 5, 5, 0, 5, 3, 4, 2, 0, 3, 1, 0, 0, 3, 4, 2, 2, 1, 2, 5, 5, 4, 4, 3, 2, 3, 1, 1, 1, 2, 0, 3, 0, 1, 4, 1, 2, 3, 5, 0, 2, 2, 0, 1, 3, 4, 4, 2, 4, 2, 1, 5, 0, 2, 0, 2, 4, 4, 0, 2, 0, 0, 1, 1, 1, 1, 4, 0, 1, 2, 5, 1, 4, 2, 3, 1, 4, 1, 3, 4, 5, 0, 0, 4, 1, 2, 4, 0, 3, 0, 0, 1, 3, 3, 4, 0, 1, 2, 2, 1, 0, 4, 5, 0, 0, 5, 0, 2, 5, 5, 0, 4, 2, 4, 0, 1, 4, 0, 2, 4, 0, 3, 3, 3, 5, 2, 3, 5, 4, 2, 4, 1, 5, 5, 1, 0, 5, 3, 2, 5, 4, 5, 1, 1, 0, 1, 3, 3, 2, 2, 3, 1, 1, 0, 0, 1, 4, 1, 0, 4, 4, 0, 5, 2, 2, 0, 2, 4, 0, 3, 0, 2, 3, 2, 3, 0, 2, 5, 2, 3, 3, 1, 3, 3, 3, 3, 5, 2, 4, 1, 1, 3, 2, 3, 5, 5, 5, 2, 5, 4, 1, 3, 2, 2, 5, 4, 0, 0, 2, 3, 0, 4, 5, 4, 3, 5, 2, 5, 4, 1, 3, 3, 2, 2, 5, 1, 1, 0, 2, 1, 1, 1, 5, 1, 2, 2, 5, 5, 2, 1, 0, 4, 0, 5, 1, 3, 0, 1, 3, 3]\n"
     ]
    }
   ],
   "source": [
    "\n",
    "import os\n",
    "from torchvision.io import read_image\n",
    "from torchvision.transforms import functional as F\n",
    "from PIL import Image\n",
    "\n",
    "\n",
    "class UnlabeledImageFolder(torch.utils.data.Dataset):\n",
    "    def __init__(self, root, transform=None):\n",
    "        self.root = root\n",
    "        self.transform = transform\n",
    "        self.imgs = [os.path.join(root, filename) for filename in os.listdir(root) if filename.endswith(('.png', '.jpg', '.jpeg'))]\n",
    "\n",
    "    def __len__(self):\n",
    "        return len(self.imgs)\n",
    "\n",
    "    def __getitem__(self, idx):\n",
    "        img_path = self.imgs[idx]\n",
    "        image = Image.open(img_path)\n",
    "\n",
    "        if self.transform:\n",
    "            image = self.transform(image)\n",
    "\n",
    "        return image\n",
    "\n",
    "unlabeled_dir = '/home/cnn-intel_images/seg_pred'\n",
    "unlabeled_dataset = UnlabeledImageFolder(unlabeled_dir, transform=test_transforms)\n",
    "unlabeled_loader = DataLoader(unlabeled_dataset, batch_size=batch_size, shuffle=False, num_workers=4)\n",
    "\n",
    "predictions = []\n",
    "\n",
    "model.eval()\n",
    "\n",
    "with torch.no_grad():\n",
    "    for images in unlabeled_loader:\n",
    "        outputs = model(images)\n",
    "        _, predicted = torch.max(outputs, 1)\n",
    "\n",
    "        # Collect predicted labels as a list\n",
    "        predicted_labels = predicted.tolist()\n",
    "\n",
    "        predictions.extend(predicted_labels)\n",
    "\n",
    "print(\"Predictions for unlabeled images:\", predictions)\n"
   ]
  },
  {
   "cell_type": "code",
   "execution_count": 26,
   "metadata": {
    "colab": {
     "base_uri": "https://localhost:8080/"
    },
    "id": "5xQWfPSt60n2",
    "outputId": "7c7f0d92-3d58-40c0-c0fe-6605619af389"
   },
   "outputs": [
    {
     "name": "stdout",
     "output_type": "stream",
     "text": [
      "Predicted class probabilities: tensor([[-2.3927, -0.6151,  2.7273,  3.8996, -1.8803, -4.8344],\n",
      "        [ 4.7265, -0.9829, -2.9880, -1.8491,  0.5012,  2.8823],\n",
      "        [-1.1536,  4.7541, -0.1365, -3.1326, -2.7757,  4.0931],\n",
      "        [-5.7885, -1.5433,  3.4273, 11.0009, -5.3236, -6.3051],\n",
      "        [-2.6093, -2.0571,  2.7254,  4.4121,  0.3595, -5.9892]])\n",
      "Predicted class indices: tensor([3, 0, 1, 3, 3])\n"
     ]
    }
   ],
   "source": [
    "print(\"Predicted class probabilities:\", outputs)\n",
    "print(\"Predicted class indices:\", predicted)"
   ]
  },
  {
   "cell_type": "code",
   "execution_count": 28,
   "metadata": {
    "colab": {
     "base_uri": "https://localhost:8080/"
    },
    "id": "Pkf21LVZ60qe",
    "outputId": "af44753f-142c-4818-a8b7-d1b8223f145e"
   },
   "outputs": [
    {
     "name": "stdout",
     "output_type": "stream",
     "text": [
      "True: buildings Predicted: buildings\n",
      "True: buildings Predicted: buildings\n",
      "True: forest Predicted: forest\n",
      "True: buildings Predicted: buildings\n",
      "True: glacier Predicted: glacier\n",
      "True: buildings Predicted: street\n",
      "True: buildings Predicted: buildings\n",
      "True: buildings Predicted: forest\n",
      "True: buildings Predicted: mountain\n",
      "True: buildings Predicted: buildings\n",
      "True: forest Predicted: forest\n",
      "True: buildings Predicted: street\n",
      "True: buildings Predicted: buildings\n",
      "True: buildings Predicted: buildings\n",
      "True: buildings Predicted: buildings\n",
      "True: glacier Predicted: glacier\n",
      "True: buildings Predicted: buildings\n",
      "True: forest Predicted: forest\n",
      "True: forest Predicted: forest\n",
      "True: forest Predicted: forest\n",
      "True: buildings Predicted: buildings\n",
      "True: forest Predicted: forest\n",
      "True: buildings Predicted: buildings\n",
      "True: buildings Predicted: buildings\n",
      "True: forest Predicted: forest\n",
      "True: forest Predicted: forest\n",
      "True: forest Predicted: forest\n",
      "True: buildings Predicted: buildings\n",
      "True: glacier Predicted: mountain\n",
      "True: glacier Predicted: glacier\n",
      "True: buildings Predicted: buildings\n",
      "True: forest Predicted: forest\n",
      "True: buildings Predicted: buildings\n",
      "True: forest Predicted: forest\n",
      "True: forest Predicted: forest\n",
      "True: forest Predicted: forest\n",
      "True: buildings Predicted: buildings\n",
      "True: forest Predicted: forest\n",
      "True: forest Predicted: forest\n",
      "True: forest Predicted: forest\n",
      "True: buildings Predicted: buildings\n",
      "True: forest Predicted: forest\n",
      "True: glacier Predicted: glacier\n",
      "True: forest Predicted: forest\n",
      "True: forest Predicted: forest\n",
      "True: forest Predicted: forest\n",
      "True: buildings Predicted: forest\n",
      "True: forest Predicted: forest\n",
      "True: forest Predicted: buildings\n",
      "True: buildings Predicted: buildings\n",
      "True: forest Predicted: forest\n",
      "True: forest Predicted: forest\n",
      "True: forest Predicted: forest\n",
      "True: forest Predicted: forest\n",
      "True: buildings Predicted: buildings\n",
      "True: forest Predicted: forest\n",
      "True: buildings Predicted: mountain\n",
      "True: buildings Predicted: buildings\n",
      "True: buildings Predicted: buildings\n",
      "True: glacier Predicted: glacier\n",
      "True: glacier Predicted: sea\n",
      "True: buildings Predicted: buildings\n",
      "True: forest Predicted: forest\n",
      "True: buildings Predicted: buildings\n",
      "True: buildings Predicted: sea\n",
      "True: buildings Predicted: buildings\n",
      "True: buildings Predicted: buildings\n",
      "True: buildings Predicted: buildings\n",
      "True: buildings Predicted: buildings\n",
      "True: forest Predicted: forest\n",
      "True: buildings Predicted: buildings\n",
      "True: buildings Predicted: buildings\n",
      "True: buildings Predicted: street\n",
      "True: buildings Predicted: sea\n",
      "True: buildings Predicted: buildings\n",
      "True: buildings Predicted: buildings\n",
      "True: forest Predicted: forest\n",
      "True: forest Predicted: forest\n",
      "True: buildings Predicted: street\n",
      "True: buildings Predicted: buildings\n",
      "True: buildings Predicted: buildings\n",
      "True: buildings Predicted: buildings\n",
      "True: buildings Predicted: buildings\n",
      "True: glacier Predicted: mountain\n",
      "True: forest Predicted: forest\n",
      "True: forest Predicted: forest\n",
      "True: forest Predicted: forest\n",
      "True: buildings Predicted: buildings\n",
      "True: forest Predicted: forest\n",
      "True: forest Predicted: forest\n",
      "True: buildings Predicted: buildings\n",
      "True: forest Predicted: forest\n",
      "True: buildings Predicted: buildings\n",
      "True: forest Predicted: forest\n",
      "True: buildings Predicted: buildings\n",
      "True: forest Predicted: forest\n",
      "True: buildings Predicted: street\n",
      "True: buildings Predicted: buildings\n",
      "True: forest Predicted: forest\n",
      "True: forest Predicted: forest\n"
     ]
    }
   ],
   "source": [
    "from random import randint\n",
    "labels=[\"buildings\", \"forest\", \"glacier\", \"mountain\", \"sea\", \"street\"]\n",
    "\n",
    "for _ in range(100):\n",
    "  random_index=randint(1,1000)\n",
    "  image=test_dataset[random_index][0];label=test_dataset[random_index][1]\n",
    "\n",
    "\n",
    "  model.eval()\n",
    "  with torch.no_grad():\n",
    "    predictions=model(image.unsqueeze(0))\n",
    "\n",
    "  _, predicted=torch.max(predictions,1)\n",
    "\n",
    "  print(\"True:\",labels[label],\"Predicted:\",labels[predicted])"
   ]
  }
 ],
 "metadata": {
  "colab": {
   "provenance": []
  },
  "kernelspec": {
   "display_name": "Python 3 (ipykernel)",
   "language": "python",
   "name": "python3"
  },
  "language_info": {
   "codemirror_mode": {
    "name": "ipython",
    "version": 3
   },
   "file_extension": ".py",
   "mimetype": "text/x-python",
   "name": "python",
   "nbconvert_exporter": "python",
   "pygments_lexer": "ipython3",
   "version": "3.11.3"
  }
 },
 "nbformat": 4,
 "nbformat_minor": 4
}
